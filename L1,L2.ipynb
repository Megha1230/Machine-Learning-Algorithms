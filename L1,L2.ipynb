{
  "nbformat": 4,
  "nbformat_minor": 0,
  "metadata": {
    "colab": {
      "provenance": [],
      "authorship_tag": "ABX9TyPcDKFcTtyoxBB0UiPAaBhV",
      "include_colab_link": true
    },
    "kernelspec": {
      "name": "python3",
      "display_name": "Python 3"
    },
    "language_info": {
      "name": "python"
    }
  },
  "cells": [
    {
      "cell_type": "markdown",
      "metadata": {
        "id": "view-in-github",
        "colab_type": "text"
      },
      "source": [
        "<a href=\"https://colab.research.google.com/github/Megha1230/ML/blob/main/L1%2CL2.ipynb\" target=\"_parent\"><img src=\"https://colab.research.google.com/assets/colab-badge.svg\" alt=\"Open In Colab\"/></a>"
      ]
    },
    {
      "cell_type": "code",
      "execution_count": null,
      "metadata": {
        "id": "0cQwgZIq-hzv"
      },
      "outputs": [],
      "source": [
        "import numpy as np\n",
        "import matplotlib.pyplot as plt"
      ]
    },
    {
      "cell_type": "code",
      "source": [
        "x=np.array([1,2,3,4,5])\n",
        "y=np.array([2.1,3.8,6.5,9.2,11.3])"
      ],
      "metadata": {
        "id": "NzvcjyM1-soz"
      },
      "execution_count": null,
      "outputs": []
    },
    {
      "cell_type": "code",
      "source": [
        "x_b=np.c_[np.ones((x.shape[0],1)),x]\n",
        "x_b"
      ],
      "metadata": {
        "colab": {
          "base_uri": "https://localhost:8080/"
        },
        "id": "YLBPDqwu-slL",
        "outputId": "25a24d00-7b12-4cf6-ba4a-ef19dfd7831f"
      },
      "execution_count": null,
      "outputs": [
        {
          "output_type": "execute_result",
          "data": {
            "text/plain": [
              "array([[1., 1.],\n",
              "       [1., 2.],\n",
              "       [1., 3.],\n",
              "       [1., 4.],\n",
              "       [1., 5.]])"
            ]
          },
          "metadata": {},
          "execution_count": 4
        }
      ]
    },
    {
      "cell_type": "code",
      "source": [
        "alpha_ridge=1.0\n",
        "alpha_lasso=0.1\n",
        "num_iterations=1000\n",
        "learning_rate=0.01"
      ],
      "metadata": {
        "id": "ui1bBw0j-sZ5"
      },
      "execution_count": null,
      "outputs": []
    },
    {
      "cell_type": "code",
      "source": [
        "#can be minimized to 0\n",
        "def lasso_regression(x,y,alpha,num_iterations,learning_rate):\n",
        "  m,n=x.shape\n",
        "  theta=np.zeros(n)\n",
        "  for _ in range(n):\n",
        "    y_pred=x.dot(theta)\n",
        "    gradient=(x.T.dot(y_pred-y)-alpha*np.sign(theta))/m\n",
        "    theta-=learning_rate*gradient\n",
        "  return theta"
      ],
      "metadata": {
        "id": "g0cn4POY_-j9"
      },
      "execution_count": null,
      "outputs": []
    },
    {
      "cell_type": "code",
      "source": [
        "#cannot be minimized to 0\n",
        "def ridge_regression(x,y,alpha,num_iterations,learning_rate):\n",
        "  m,n=x.shape\n",
        "  theta=np.zeros(n)\n",
        "  for _ in range(n):\n",
        "    y_pred=x.dot(theta)\n",
        "    gradient=(x.T.dot(y_pred-y)+alpha*theta)/m\n",
        "    theta-=learning_rate*gradient\n",
        "  return theta"
      ],
      "metadata": {
        "id": "SSBCQGjZA-ZM"
      },
      "execution_count": null,
      "outputs": []
    },
    {
      "cell_type": "code",
      "source": [
        "theta_ridge=ridge_regression(x_b,y,alpha_ridge,num_iterations,learning_rate)\n",
        "theta_lasso=lasso_regression(x_b,y,alpha_lasso,num_iterations,learning_rate)"
      ],
      "metadata": {
        "id": "vblLV486BWHJ"
      },
      "execution_count": null,
      "outputs": []
    },
    {
      "cell_type": "code",
      "source": [
        "plt.scatter(x,y,label='Data')\n",
        "plt.plot(x,x_b.dot(theta_ridge),label='Ridge (L2) Regression',color='black')\n",
        "plt.plot(x,x_b.dot(theta_lasso),label='Lasso (L1) Regression',color='red')\n",
        "plt.xlabel('X')\n",
        "plt.ylabel('Y')\n",
        "plt.legend()\n",
        "plt.show()"
      ],
      "metadata": {
        "colab": {
          "base_uri": "https://localhost:8080/",
          "height": 449
        },
        "id": "zBo5zgJ2DuS9",
        "outputId": "c00aca2f-c142-41f5-bfc9-a8a2c0e0a8a9"
      },
      "execution_count": null,
      "outputs": [
        {
          "output_type": "display_data",
          "data": {
            "text/plain": [
              "<Figure size 640x480 with 1 Axes>"
            ],
            "image/png": "[encoded data removed]"
          },
          "metadata": {}
        }
      ]
    }
  ]
}